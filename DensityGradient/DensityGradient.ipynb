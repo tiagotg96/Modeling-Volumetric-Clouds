{
 "cells": [
  {
   "cell_type": "markdown",
   "metadata": {},
   "source": [
    "# Density Gradients\n",
    "\n",
    "- This work has been developed for my master's dissertation: *Real-Time Volumetric Cloud Rendering*\n",
    "\n",
    "- Inspired in [Andrew Schneider](https://www.schneidervfx.com/)\n",
    "\n",
    "###### Tiago Gomes | [PG47702](mailto:pg47702@alunos.uminho.pt) - University of Minho | Email: [tiagotg778@gmail.com](mailto:tiagotg778@gmail.com)"
   ]
  },
  {
   "cell_type": "markdown",
   "metadata": {},
   "source": [
    "---"
   ]
  },
  {
   "cell_type": "code",
   "execution_count": null,
   "metadata": {},
   "outputs": [],
   "source": [
    "# Needed imports\n",
    "from PIL import Image\n",
    "import numpy as np\n",
    "import random\n",
    "import math"
   ]
  },
  {
   "cell_type": "markdown",
   "metadata": {},
   "source": [
    "---"
   ]
  },
  {
   "cell_type": "markdown",
   "metadata": {},
   "source": [
    "## Methods"
   ]
  },
  {
   "cell_type": "code",
   "execution_count": 38,
   "metadata": {},
   "outputs": [],
   "source": [
    "# Define remapping function as in Schneider (2015, 2016)\n",
    "def Remap(o_value : float, o_min : float, o_max : float, n_min : float, n_max : float):\n",
    "    return n_min + ((o_value - o_min) / (o_max - o_min)) * (n_max - n_min)\n",
    "\n",
    "# Method to generate the density gradient texture\n",
    "def DensityGradientGeneration(imgsize : tuple[int, int], isBottom : bool,\n",
    "                               omin1: float, omax1: float, nmin1: float, nmax1: float,\n",
    "                               omin2: float, omax2: float, nmin2: float, nmax2: float) -> Image:\n",
    "    # RGB texture:\n",
    "    generated_image = Image.new('RGB', imgsize)\n",
    "\n",
    "    # scale factor to convert to rgb\n",
    "    rgb_scale = 256\n",
    "\n",
    "    # Generate the gradient texture\n",
    "    for y in range(imgsize[1]):\n",
    "        for x in range(imgsize[0]):\n",
    "            # y is the axis for the density value. Got to normalize it\n",
    "            norm_y = y / imgsize[1]\n",
    "\n",
    "            distanceToPoint = math.sqrt((x - imgsize[0]*4) ** 2 + (y - imgsize[1]*4) ** 2)\n",
    "            distanceToPoint = float(distanceToPoint) / (math.sqrt(2) * imgsize[0]*4)\n",
    "\n",
    "            pixel_value = 0\n",
    "\n",
    "            if(isBottom):\n",
    "                pixel_value = rgb_scale * np.clip((Remap( 1 - (norm_y * distanceToPoint), omin1, omax1, nmin1, nmax1) \n",
    "                                                 * Remap( 1 - (norm_y * distanceToPoint), omin2, omax2, nmin2, nmax2)), 0, 1)\n",
    "            else:\n",
    "                pixel_value = rgb_scale * np.clip((Remap(norm_y, omin1, omax1, nmin1, nmax1) \n",
    "                                                 * Remap(norm_y, omin2, omax2, nmin2, nmax2)), 0, 1)\n",
    "\n",
    "            # Place the pixel        \n",
    "            generated_image.putpixel((x, (imgsize[1] - 1) - y), (int(pixel_value), int(pixel_value), int(pixel_value)))\n",
    "\n",
    "    return generated_image"
   ]
  },
  {
   "cell_type": "markdown",
   "metadata": {},
   "source": [
    "---"
   ]
  },
  {
   "cell_type": "markdown",
   "metadata": {},
   "source": [
    "## Define the texture width and height"
   ]
  },
  {
   "cell_type": "code",
   "execution_count": null,
   "metadata": {},
   "outputs": [],
   "source": [
    "# Define the texture size (512x512 for good definition)\n",
    "imgsize = (512, 512)"
   ]
  },
  {
   "cell_type": "markdown",
   "metadata": {},
   "source": [
    "---"
   ]
  },
  {
   "cell_type": "markdown",
   "metadata": {},
   "source": [
    "## Auxiliary Methods\n",
    "\n",
    "These methods were used to generate some of the different parameters of the remapping functions. The gradient textures in the PowerPoint presentations (which don't seem to be accurate and suffered compression) were used as the reference textures."
   ]
  },
  {
   "cell_type": "code",
   "execution_count": null,
   "metadata": {},
   "outputs": [],
   "source": [
    "# Method to compare two images, pixel by pixel. It returns the percentage of pixels that have the same value \n",
    "def CompareTextures(reference_image : Image, generated_image : Image) -> float:\n",
    "    percentage_correct = 0\n",
    "\n",
    "    # compare the textures\n",
    "    for y in range(imgsize[1]):\n",
    "        for x in range(imgsize[0]):\n",
    "            generated_pixel = generated_image.getpixel((x, y))\n",
    "            reference_pixel = reference_image.getpixel((x, y))\n",
    "\n",
    "            if(generated_pixel[0] == reference_pixel[0] and generated_pixel[1] == reference_pixel[1] and generated_pixel[2] == reference_pixel[2]):\n",
    "                percentage_correct += 1\n",
    "    \n",
    "    percentage_correct = percentage_correct / (imgsize[0]*imgsize[1]) * 100\n",
    "\n",
    "    return percentage_correct\n",
    "\n",
    "# Method that keeps generating images until a certain correctness percentage is reached. When it reaches that percentage, it saves an image and prints which values were used\n",
    "def CorrectTexture(achieve_percentage : float, imgsize : tuple[int, int], isBottom : bool, reference_image : Image) -> Image:\n",
    "    while(True):\n",
    "        current_percentage = 0\n",
    "        # All input values for the remap functions are in the range [0,1], so use random values for that\n",
    "        random_omin1 = random.uniform(0, 1)\n",
    "        random_omax1 = random.uniform(0, 1)\n",
    "        random_nmin1 = random.uniform(0, 1)\n",
    "        random_nmax1 = random.uniform(0, 1)\n",
    "\n",
    "        random_omin2 = random.uniform(0, 1)\n",
    "        random_omax2 = random.uniform(0, 1)\n",
    "        random_nmin2 = random.uniform(0, 1)\n",
    "        random_nmax2 = random.uniform(0, 1)\n",
    "\n",
    "        generated_image = DensityGradientGeneration(imgsize, isBottom,\n",
    "            stratus_omin1 = random_omin1, stratus_omax1 = random_omax1, stratus_nmin1 = random_nmin1, stratus_nmax1 = random_nmax1,\n",
    "            stratus_omin2 = random_omin2, stratus_omax2 = random_omax2, stratus_nmin2 = random_nmin2, stratus_nmax2 = random_nmax2)\n",
    "\n",
    "        # Get the current percentage\n",
    "        current_percentage = CompareTextures(reference_image, generated_image)\n",
    "        print(f'Current percentage: {current_percentage: .2f}; Values are: {random_omin1: .5f}, {random_omax1: .5f}, {random_nmin1: .5f}, {random_nmax1: .5f}, {random_omin2: .5f}, {random_omax2: .5f}, {random_nmin2: .5f}, {random_nmax2: .5f}')\n",
    "\n",
    "        if(current_percentage >= achieve_percentage):\n",
    "            generated_image.save('T_DensityGradient.tiff')\n",
    "            return generated_image"
   ]
  },
  {
   "cell_type": "code",
   "execution_count": null,
   "metadata": {},
   "outputs": [],
   "source": [
    "#reference_image = Image.open('name_of_the_texture')\n",
    "\n",
    "# Test to check if generated images create what we want, compared to the reference image\n",
    "#CorrectTexture(30.68, imgsize, reference_image)"
   ]
  },
  {
   "cell_type": "markdown",
   "metadata": {},
   "source": [
    "---"
   ]
  },
  {
   "cell_type": "markdown",
   "metadata": {},
   "source": [
    "## Generate the different gradient textures\n",
    "\n",
    "The parameter values were not described in the presentations for the different gradient textures. These values are a result of either trial-and-error or by using the above methods."
   ]
  },
  {
   "cell_type": "code",
   "execution_count": null,
   "metadata": {},
   "outputs": [],
   "source": [
    "# stratus: 0.0175, 0.175, 0.005 , 0.9, 0.145, 0.18, 1.0, 0.0\n",
    "# stratocumulus: 0.05, 0.19, 0.075, 0.925, 0.3, 0.485, 0.7, 0.0\n",
    "# cumulus: 0.0075, 0.2, 0.0, 1.0, 0.3, 0.8, 1.0, 0.0\n",
    "# bottom: 0.71547,  0.73567,  0.08276,  0.01587,  0.40550,  0.76010,  0.65148,  0.90273\n",
    "\n",
    "stratus_gradient = DensityGradientGeneration(imgsize, False,\n",
    "            omin1 = 0.0175, omax1 = 0.175, nmin1 = 0.005, nmax1 = 0.9,\n",
    "            omin2 = 0.145, omax2 = 0.18, nmin2 = 1.0, nmax2 = 0.0)\n",
    "\n",
    "stratocumulus_gradient = DensityGradientGeneration(imgsize, False,\n",
    "            omin1 = 0.05, omax1 = 0.19, nmin1 = 0.075, nmax1 = 0.925,\n",
    "            omin2 = 0.3, omax2 = 0.485, nmin2 = 0.7, nmax2 = 0.0)\n",
    "\n",
    "cumulus_gradient = DensityGradientGeneration(imgsize, False,\n",
    "            omin1 = 0.0075, omax1 = 0.2, nmin1 = 0.0, nmax1 = 1.0,\n",
    "            omin2 = 0.3, omax2 = 0.8, nmin2 = 1.0, nmax2 = 0.0)\n",
    "\n",
    "bottom_gradient = DensityGradientGeneration(imgsize, True,\n",
    "            omin1 = 0.71547, omax1 = 0.73567, nmin1 = 0.08276, nmax1 = 0.01587,\n",
    "            omin2 = 0.40550, omax2 = 0.76010, nmin2 = 0.65148, nmax2 = 0.90273)\n",
    "\n",
    "# Save the texture gradients\n",
    "stratus_gradient.save('T_Stratus_DensityGradient.tiff')\n",
    "stratocumulus_gradient.save('T_Stratocumulus_DensityGradient.tiff')\n",
    "cumulus_gradient.save('T_Cumulus_DensityGradient.tiff')\n",
    "bottom_gradient.save('T_Bottom_DensityGradient.tiff')"
   ]
  }
 ],
 "metadata": {
  "kernelspec": {
   "display_name": "Python 3",
   "language": "python",
   "name": "python3"
  },
  "language_info": {
   "codemirror_mode": {
    "name": "ipython",
    "version": 3
   },
   "file_extension": ".py",
   "mimetype": "text/x-python",
   "name": "python",
   "nbconvert_exporter": "python",
   "pygments_lexer": "ipython3",
   "version": "3.11.7"
  }
 },
 "nbformat": 4,
 "nbformat_minor": 2
}
